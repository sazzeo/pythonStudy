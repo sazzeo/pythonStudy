{
 "cells": [
  {
   "cell_type": "code",
   "execution_count": 3,
   "id": "6e3426ea",
   "metadata": {},
   "outputs": [
    {
     "name": "stdout",
     "output_type": "stream",
     "text": [
      "주피터에서 만든 파일\n"
     ]
    }
   ],
   "source": [
    "print(\"주피터에서 만든 파일\")"
   ]
  },
  {
   "attachments": {},
   "cell_type": "markdown",
   "id": "f0ecfa6c",
   "metadata": {},
   "source": [
    "[image.png](attachment:image.png)"
   ]
  },
  {
   "cell_type": "code",
   "execution_count": null,
   "id": "cecc9fa0",
   "metadata": {},
   "outputs": [],
   "source": []
  }
 ],
 "metadata": {
  "kernelspec": {
   "display_name": "Python 3 (ipykernel)",
   "language": "python",
   "name": "python3"
  },
  "language_info": {
   "codemirror_mode": {
    "name": "ipython",
    "version": 3
   },
   "file_extension": ".py",
   "mimetype": "text/x-python",
   "name": "python",
   "nbconvert_exporter": "python",
   "pygments_lexer": "ipython3",
   "version": "3.9.7"
  }
 },
 "nbformat": 4,
 "nbformat_minor": 5
}
