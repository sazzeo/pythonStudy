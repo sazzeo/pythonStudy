{
 "cells": [
  {
   "cell_type": "code",
   "execution_count": 2,
   "id": "d8f70c05",
   "metadata": {},
   "outputs": [
    {
     "data": {
      "text/plain": [
       "'Hello 임지영'"
      ]
     },
     "execution_count": 2,
     "metadata": {},
     "output_type": "execute_result"
    }
   ],
   "source": [
    "user_name=\"임지영\"\n",
    "f\"Hello {user_name}\""
   ]
  },
  {
   "cell_type": "code",
   "execution_count": 3,
   "id": "1fcf5096",
   "metadata": {},
   "outputs": [
    {
     "data": {
      "text/plain": [
       "'Hello 임지영'"
      ]
     },
     "execution_count": 3,
     "metadata": {},
     "output_type": "execute_result"
    }
   ],
   "source": [
    "f\"Hello {'임지영'}\""
   ]
  },
  {
   "cell_type": "code",
   "execution_count": 4,
   "id": "49cbf335",
   "metadata": {},
   "outputs": [
    {
     "name": "stdout",
     "output_type": "stream",
     "text": [
      "총가격: 25000 원\n"
     ]
    }
   ],
   "source": [
    "price = 5000\n",
    "number = 5\n",
    "print(f\"총가격: {price * number} 원\")"
   ]
  },
  {
   "cell_type": "code",
   "execution_count": 7,
   "id": "a72775ba",
   "metadata": {},
   "outputs": [
    {
     "name": "stdout",
     "output_type": "stream",
     "text": [
      "총가격: 25,000.00 원\n"
     ]
    }
   ],
   "source": [
    "print(f\"총가격: {price * number:,.2f} 원\")"
   ]
  },
  {
   "cell_type": "code",
   "execution_count": 11,
   "id": "8b475b64",
   "metadata": {},
   "outputs": [
    {
     "name": "stdout",
     "output_type": "stream",
     "text": [
      "퍼센트: 6.50% \n"
     ]
    }
   ],
   "source": [
    "print(f\"퍼센트: {0.065:.2%} \")"
   ]
  },
  {
   "cell_type": "code",
   "execution_count": 14,
   "id": "24c19f28",
   "metadata": {},
   "outputs": [
    {
     "name": "stdout",
     "output_type": "stream",
     "text": [
      "245\n"
     ]
    }
   ],
   "source": [
    "a = abs(-245) #절댓값\n",
    "print(a)"
   ]
  },
  {
   "cell_type": "code",
   "execution_count": 21,
   "id": "829654c7",
   "metadata": {},
   "outputs": [
    {
     "name": "stdout",
     "output_type": "stream",
     "text": [
      "1.32\n"
     ]
    }
   ],
   "source": [
    "b = round(1.324214 , 2) #반올림\n",
    "print(b)"
   ]
  },
  {
   "cell_type": "code",
   "execution_count": 23,
   "id": "6d5f8246",
   "metadata": {},
   "outputs": [
    {
     "name": "stdout",
     "output_type": "stream",
     "text": [
      "0b10100\n"
     ]
    }
   ],
   "source": [
    "c = bin(20)\n",
    "print(c)"
   ]
  },
  {
   "cell_type": "code",
   "execution_count": 25,
   "id": "de1f7563",
   "metadata": {},
   "outputs": [
    {
     "name": "stdout",
     "output_type": "stream",
     "text": [
      "214.0\n"
     ]
    }
   ],
   "source": [
    "d = float(214)\n",
    "print(d)"
   ]
  },
  {
   "cell_type": "code",
   "execution_count": 28,
   "id": "dc15b576",
   "metadata": {},
   "outputs": [
    {
     "name": "stdout",
     "output_type": "stream",
     "text": [
      "2\n"
     ]
    }
   ],
   "source": [
    "e=int(2.14)\n",
    "print(e)"
   ]
  },
  {
   "cell_type": "code",
   "execution_count": 31,
   "id": "89a3ed20",
   "metadata": {},
   "outputs": [
    {
     "name": "stdout",
     "output_type": "stream",
     "text": [
      "bcd\n"
     ]
    }
   ],
   "source": [
    "g = max('abc', 'bcd') #오름차순 중 나중에 오는 것 반환\n",
    "print(g)"
   ]
  },
  {
   "cell_type": "code",
   "execution_count": 34,
   "id": "282da3c9",
   "metadata": {},
   "outputs": [
    {
     "data": {
      "text/plain": [
       "1234.0"
      ]
     },
     "execution_count": 34,
     "metadata": {},
     "output_type": "execute_result"
    }
   ],
   "source": [
    "float('1234')"
   ]
  },
  {
   "cell_type": "code",
   "execution_count": 36,
   "id": "7e21aff5",
   "metadata": {},
   "outputs": [
    {
     "data": {
      "text/plain": [
       "'하'"
      ]
     },
     "execution_count": 36,
     "metadata": {},
     "output_type": "execute_result"
    }
   ],
   "source": [
    "\"안녕하세요\"[2]"
   ]
  },
  {
   "cell_type": "code",
   "execution_count": 43,
   "id": "7cdc4bf6",
   "metadata": {},
   "outputs": [
    {
     "data": {
      "text/plain": [
       "['__doc__',\n",
       " '__loader__',\n",
       " '__name__',\n",
       " '__package__',\n",
       " '__spec__',\n",
       " 'acos',\n",
       " 'acosh',\n",
       " 'asin',\n",
       " 'asinh',\n",
       " 'atan',\n",
       " 'atan2',\n",
       " 'atanh',\n",
       " 'ceil',\n",
       " 'comb',\n",
       " 'copysign',\n",
       " 'cos',\n",
       " 'cosh',\n",
       " 'degrees',\n",
       " 'dist',\n",
       " 'e',\n",
       " 'erf',\n",
       " 'erfc',\n",
       " 'exp',\n",
       " 'expm1',\n",
       " 'fabs',\n",
       " 'factorial',\n",
       " 'floor',\n",
       " 'fmod',\n",
       " 'frexp',\n",
       " 'fsum',\n",
       " 'gamma',\n",
       " 'gcd',\n",
       " 'hypot',\n",
       " 'inf',\n",
       " 'isclose',\n",
       " 'isfinite',\n",
       " 'isinf',\n",
       " 'isnan',\n",
       " 'isqrt',\n",
       " 'lcm',\n",
       " 'ldexp',\n",
       " 'lgamma',\n",
       " 'log',\n",
       " 'log10',\n",
       " 'log1p',\n",
       " 'log2',\n",
       " 'modf',\n",
       " 'nan',\n",
       " 'nextafter',\n",
       " 'perm',\n",
       " 'pi',\n",
       " 'pow',\n",
       " 'prod',\n",
       " 'radians',\n",
       " 'remainder',\n",
       " 'sin',\n",
       " 'sinh',\n",
       " 'sqrt',\n",
       " 'tan',\n",
       " 'tanh',\n",
       " 'tau',\n",
       " 'trunc',\n",
       " 'ulp']"
      ]
     },
     "execution_count": 43,
     "metadata": {},
     "output_type": "execute_result"
    }
   ],
   "source": [
    "import math as m\n",
    "dir(math)"
   ]
  },
  {
   "cell_type": "code",
   "execution_count": 45,
   "id": "8b69688b",
   "metadata": {},
   "outputs": [
    {
     "data": {
      "text/plain": [
       "3.141592653589793"
      ]
     },
     "execution_count": 45,
     "metadata": {},
     "output_type": "execute_result"
    }
   ],
   "source": [
    "m.pi"
   ]
  },
  {
   "cell_type": "code",
   "execution_count": 48,
   "id": "b2846b35",
   "metadata": {},
   "outputs": [
    {
     "name": "stdout",
     "output_type": "stream",
     "text": [
      "안녕\"하세요\"\n"
     ]
    }
   ],
   "source": [
    "print('안녕\"하세요\"') "
   ]
  },
  {
   "cell_type": "code",
   "execution_count": 50,
   "id": "dce4650a",
   "metadata": {},
   "outputs": [
    {
     "name": "stdout",
     "output_type": "stream",
     "text": [
      "안녕하세요 '인사'\n"
     ]
    }
   ],
   "source": [
    "print('안녕하세요 \\'인사\\'')"
   ]
  },
  {
   "cell_type": "code",
   "execution_count": 52,
   "id": "41b61a05",
   "metadata": {},
   "outputs": [
    {
     "name": "stdout",
     "output_type": "stream",
     "text": [
      "안녕\n",
      "반가워\n"
     ]
    }
   ],
   "source": [
    "print(\"안녕\\n반가워\")"
   ]
  },
  {
   "cell_type": "code",
   "execution_count": 54,
   "id": "3fdf66dc",
   "metadata": {},
   "outputs": [
    {
     "name": "stdout",
     "output_type": "stream",
     "text": [
      "\\이중 백슬래시\n"
     ]
    }
   ],
   "source": [
    "print('\\\\이중 백슬래시')"
   ]
  },
  {
   "cell_type": "code",
   "execution_count": 56,
   "id": "53647480",
   "metadata": {},
   "outputs": [
    {
     "name": "stdout",
     "output_type": "stream",
     "text": [
      "안녕하세요\n"
     ]
    }
   ],
   "source": [
    "print(\"안녕\"+\"하세요\")\n"
   ]
  },
  {
   "cell_type": "code",
   "execution_count": 57,
   "id": "2a1b0f65",
   "metadata": {},
   "outputs": [
    {
     "name": "stdout",
     "output_type": "stream",
     "text": [
      "안녕 하세요\n"
     ]
    }
   ],
   "source": [
    "print(\"안녕\",\"하세요\")"
   ]
  },
  {
   "cell_type": "code",
   "execution_count": 59,
   "id": "8add41a8",
   "metadata": {},
   "outputs": [
    {
     "name": "stdout",
     "output_type": "stream",
     "text": [
      "안녕안녕안녕\n"
     ]
    }
   ],
   "source": [
    "print(\"안녕\"*3)"
   ]
  },
  {
   "cell_type": "code",
   "execution_count": 61,
   "id": "253c8f15",
   "metadata": {},
   "outputs": [
    {
     "name": "stdout",
     "output_type": "stream",
     "text": [
      "녕하\n"
     ]
    }
   ],
   "source": [
    "print(\"안녕하세요반갑습니다.\"[1:3])"
   ]
  },
  {
   "cell_type": "code",
   "execution_count": 66,
   "id": "b755c9dd",
   "metadata": {},
   "outputs": [
    {
     "name": "stdout",
     "output_type": "stream",
     "text": [
      "녕요습\n"
     ]
    }
   ],
   "source": [
    "print(\"안녕하세요반갑습니다.\"[1:9:3])"
   ]
  },
  {
   "cell_type": "code",
   "execution_count": 68,
   "id": "2bede218",
   "metadata": {},
   "outputs": [
    {
     "name": "stdout",
     "output_type": "stream",
     "text": [
      "녕\n"
     ]
    }
   ],
   "source": [
    "print(min(\"안녕하세요\"))"
   ]
  },
  {
   "cell_type": "code",
   "execution_count": 70,
   "id": "8b18e2ff",
   "metadata": {},
   "outputs": [
    {
     "data": {
      "text/plain": [
       "'A'"
      ]
     },
     "execution_count": 70,
     "metadata": {},
     "output_type": "execute_result"
    }
   ],
   "source": [
    "chr(65)"
   ]
  },
  {
   "cell_type": "code",
   "execution_count": 74,
   "id": "9a706d0d",
   "metadata": {},
   "outputs": [
    {
     "data": {
      "text/plain": [
       "97"
      ]
     },
     "execution_count": 74,
     "metadata": {},
     "output_type": "execute_result"
    }
   ],
   "source": [
    "ord('a')"
   ]
  },
  {
   "cell_type": "code",
   "execution_count": 78,
   "id": "e3468b5f",
   "metadata": {},
   "outputs": [
    {
     "data": {
      "text/plain": [
       "'0x1e0x28'"
      ]
     },
     "execution_count": 78,
     "metadata": {},
     "output_type": "execute_result"
    }
   ],
   "source": [
    "hex(30) + hex(40)"
   ]
  },
  {
   "cell_type": "code",
   "execution_count": 82,
   "id": "d8e80718",
   "metadata": {},
   "outputs": [
    {
     "data": {
      "text/plain": [
       "'ABC'"
      ]
     },
     "execution_count": 82,
     "metadata": {},
     "output_type": "execute_result"
    }
   ],
   "source": [
    "'abc'.upper()"
   ]
  },
  {
   "cell_type": "code",
   "execution_count": 83,
   "id": "99d7b0ea",
   "metadata": {},
   "outputs": [
    {
     "data": {
      "text/plain": [
       "4"
      ]
     },
     "execution_count": 83,
     "metadata": {},
     "output_type": "execute_result"
    }
   ],
   "source": [
    "'aaaabcde'.count('a')"
   ]
  }
 ],
 "metadata": {
  "kernelspec": {
   "display_name": "Python 3 (ipykernel)",
   "language": "python",
   "name": "python3"
  },
  "language_info": {
   "codemirror_mode": {
    "name": "ipython",
    "version": 3
   },
   "file_extension": ".py",
   "mimetype": "text/x-python",
   "name": "python",
   "nbconvert_exporter": "python",
   "pygments_lexer": "ipython3",
   "version": "3.9.7"
  }
 },
 "nbformat": 4,
 "nbformat_minor": 5
}
