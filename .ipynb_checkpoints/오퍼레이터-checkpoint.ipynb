{
 "cells": [
  {
   "cell_type": "code",
   "execution_count": 2,
   "id": "f22c6fc6",
   "metadata": {},
   "outputs": [
    {
     "name": "stdout",
     "output_type": "stream",
     "text": [
      "a는 짝수입니다\n"
     ]
    }
   ],
   "source": [
    "a = 2\n",
    "if(a%2==0) : print(\"a는 짝수입니다\")"
   ]
  },
  {
   "cell_type": "code",
   "execution_count": 5,
   "id": "005de098",
   "metadata": {},
   "outputs": [
    {
     "name": "stdout",
     "output_type": "stream",
     "text": [
      "a는 짝수입니다\n",
      "블록은 전부 들여쓰기\n",
      "if문 탈출\n"
     ]
    }
   ],
   "source": [
    "a = 2\n",
    "if(a%2==0) : \n",
    "    print(\"a는 짝수입니다\")\n",
    "    print(\"블록은 전부 들여쓰기\")\n",
    "    \n",
    "print(\"if문 탈출\")"
   ]
  },
  {
   "cell_type": "code",
   "execution_count": 6,
   "id": "8e3fb473",
   "metadata": {},
   "outputs": [
    {
     "name": "stdout",
     "output_type": "stream",
     "text": [
      "a는 3의 배수입니다.\n"
     ]
    }
   ],
   "source": [
    "a = 3\n",
    "if(a%3==0) : \n",
    "    print(\"a는 3의 배수입니다.\")\n",
    "elif(a%3==1) :\n",
    "    print(\"나머지는 1입니다.\")\n",
    "else :\n",
    "    print(\"나머지는 2입니다.\")\n",
    "\n"
   ]
  },
  {
   "cell_type": "code",
   "execution_count": 9,
   "id": "f0a26992",
   "metadata": {},
   "outputs": [
    {
     "name": "stdout",
     "output_type": "stream",
     "text": [
      "나머지는 2입니다.\n"
     ]
    }
   ],
   "source": [
    "a = 2\n",
    "if(a%3==0) : \n",
    "    print(\"a는 3의 배수입니다.\")\n",
    "elif(a%3==1) :\n",
    "    print(\"나머지는 1입니다.\")\n",
    "else :\n",
    "    print(\"나머지는 2입니다.\")\n"
   ]
  },
  {
   "cell_type": "code",
   "execution_count": 12,
   "id": "bd30c9d5",
   "metadata": {},
   "outputs": [
    {
     "name": "stdout",
     "output_type": "stream",
     "text": [
      "나머지는 1입니다.\n"
     ]
    }
   ],
   "source": [
    "a = 10\n",
    "if(a%3==0) : \n",
    "    print(\"a는 3의 배수입니다.\")\n",
    "elif(a%3==1) :\n",
    "    print(\"나머지는 1입니다.\")\n",
    "else :\n",
    "    print(\"나머지는 2입니다.\")"
   ]
  },
  {
   "cell_type": "code",
   "execution_count": 17,
   "id": "cfa7c28a",
   "metadata": {},
   "outputs": [
    {
     "name": "stdout",
     "output_type": "stream",
     "text": [
      "2022-01-08 15:16:28.049417\n"
     ]
    }
   ],
   "source": [
    "import datetime as dt\n",
    "now = dt.datetime.now()\n",
    "now.hour\n",
    "print(now)"
   ]
  },
  {
   "cell_type": "code",
   "execution_count": 20,
   "id": "71b7dab0",
   "metadata": {},
   "outputs": [
    {
     "name": "stdout",
     "output_type": "stream",
     "text": [
      "0\n",
      "1\n",
      "2\n",
      "3\n",
      "4\n",
      "---------------\n",
      "2\n",
      "3\n",
      "4\n"
     ]
    }
   ],
   "source": [
    "for i in range(5) :\n",
    "    print(i)\n",
    "print(\"---------------\")\n",
    "for i in range(2,5):\n",
    "    print(i)\n"
   ]
  },
  {
   "cell_type": "code",
   "execution_count": 21,
   "id": "fc9dbf51",
   "metadata": {},
   "outputs": [
    {
     "name": "stdout",
     "output_type": "stream",
     "text": [
      "안\n",
      "녕\n",
      "하\n",
      "슈\n"
     ]
    }
   ],
   "source": [
    "for i in \"안녕하슈\" :\n",
    "    print(i)\n"
   ]
  },
  {
   "cell_type": "code",
   "execution_count": 22,
   "id": "c9562f0c",
   "metadata": {},
   "outputs": [
    {
     "name": "stdout",
     "output_type": "stream",
     "text": [
      "월\n",
      "화\n",
      "수\n",
      "목\n",
      "금\n"
     ]
    }
   ],
   "source": [
    "for li in ['월','화','수' ,'목','금'] :\n",
    "    print(li)"
   ]
  },
  {
   "cell_type": "code",
   "execution_count": 24,
   "id": "7bae2179",
   "metadata": {},
   "outputs": [
    {
     "name": "stdout",
     "output_type": "stream",
     "text": [
      "왜이래?\n"
     ]
    }
   ],
   "source": [
    "print(\"왜이래?\")"
   ]
  },
  {
   "cell_type": "code",
   "execution_count": 25,
   "id": "6cd88fd0",
   "metadata": {},
   "outputs": [
    {
     "name": "stdout",
     "output_type": "stream",
     "text": [
      "end\n",
      "end\n",
      "끝\n"
     ]
    }
   ],
   "source": [
    "answer = \" \";\n",
    "while(answer !=\"end\") :\n",
    "    answer = input()\n",
    "    print(answer)\n",
    "print(\"끝\")"
   ]
  }
 ],
 "metadata": {
  "kernelspec": {
   "display_name": "Python 3 (ipykernel)",
   "language": "python",
   "name": "python3"
  },
  "language_info": {
   "codemirror_mode": {
    "name": "ipython",
    "version": 3
   },
   "file_extension": ".py",
   "mimetype": "text/x-python",
   "name": "python",
   "nbconvert_exporter": "python",
   "pygments_lexer": "ipython3",
   "version": "3.9.7"
  }
 },
 "nbformat": 4,
 "nbformat_minor": 5
}
