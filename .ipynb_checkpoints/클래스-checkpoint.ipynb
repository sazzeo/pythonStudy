{
 "cells": [
  {
   "cell_type": "code",
   "execution_count": 6,
   "id": "d5370db3",
   "metadata": {},
   "outputs": [],
   "source": [
    "#이름 범위 테스트\n",
    "\n",
    "def scope_test():\n",
    "    def do_local():\n",
    "        message = \"로컬 메세지\"\n",
    "    \n",
    "    def do_nonlocal() :\n",
    "        nonlocal message\n",
    "        message = \"nonlocal 메세지\"\n",
    "        \n",
    "    def do_global():\n",
    "        global message\n",
    "        message = \"global 메세지\"\n",
    "    \n",
    "    message = \"test massage\"\n",
    "    \n",
    "    do_local()\n",
    "    print(message)\n",
    "    do_nonlocal()\n",
    "    print(message)\n",
    "    do_global()\n",
    "    print(message)\n",
    "    \n",
    "        \n"
   ]
  },
  {
   "cell_type": "code",
   "execution_count": 8,
   "id": "9fcfa390",
   "metadata": {},
   "outputs": [
    {
     "name": "stdout",
     "output_type": "stream",
     "text": [
      "test massage\n",
      "nonlocal 메세지\n",
      "nonlocal 메세지\n",
      "global 메세지\n"
     ]
    }
   ],
   "source": [
    "scope_test()\n",
    "print(message)"
   ]
  },
  {
   "cell_type": "code",
   "execution_count": 3,
   "id": "a8a30cb9",
   "metadata": {},
   "outputs": [
    {
     "name": "stdout",
     "output_type": "stream",
     "text": [
      "지영\n",
      "안녕하세요\n"
     ]
    }
   ],
   "source": [
    "# 클래스 선언\n",
    "\n",
    "class Student:\n",
    "    name = \"지영\"\n",
    "    def __init__(self , name ,age) :\n",
    "        self.name = name\n",
    "        self.age = age\n",
    "    def hi(self) :\n",
    "        return \"안녕하세요\"\n",
    "    \n",
    "print(Student.name)\n",
    "print(Student.hi(0)) # self매개변수를 줬기때문에 의미없이 매개변수 줬음..\n"
   ]
  },
  {
   "cell_type": "code",
   "execution_count": 4,
   "id": "29ec7160",
   "metadata": {},
   "outputs": [
    {
     "name": "stdout",
     "output_type": "stream",
     "text": [
      "졍\n",
      "안녕하세요\n",
      "27\n"
     ]
    }
   ],
   "source": [
    "jee = Student(\"졍\",27)\n",
    "print(jee.name)\n",
    "print(jee.hi())\n",
    "print(jee.age)"
   ]
  },
  {
   "cell_type": "code",
   "execution_count": 14,
   "id": "767189a0",
   "metadata": {},
   "outputs": [
    {
     "name": "stdout",
     "output_type": "stream",
     "text": [
      "졍\n",
      "졍\n"
     ]
    }
   ],
   "source": [
    "#속성 \n",
    "Student.f = len  #js처럼 함수 배정도 가능함.\n",
    "jee.f('abc')\n",
    "jee.h = len\n",
    "jee.h('abcd')\n",
    "#여기에 변수 할당을하면 값을 할당 시켜서 jee.name이 바뀐다고 해서 값이 바뀌지 않음\n",
    "a = jee.name  \n",
    "print(a)\n",
    "jee.name = '지영이'\n",
    "print(a)"
   ]
  },
  {
   "cell_type": "code",
   "execution_count": 34,
   "id": "afbc5a64",
   "metadata": {},
   "outputs": [],
   "source": [
    "class Student :\n",
    "    name = \"지영\"\n",
    "    def __init__(self, age):\n",
    "        self.age = age\n",
    "    \n",
    "    def str(self) :\n",
    "        print(self.name +\"의 나이는\" , self.age , \"살입니다\" )\n",
    "        "
   ]
  },
  {
   "cell_type": "code",
   "execution_count": 35,
   "id": "06a388bb",
   "metadata": {},
   "outputs": [],
   "source": [
    "jee = Student(27)\n",
    "hyoung = Student(23)"
   ]
  },
  {
   "cell_type": "code",
   "execution_count": 41,
   "id": "afffa6ae",
   "metadata": {},
   "outputs": [
    {
     "name": "stdout",
     "output_type": "stream",
     "text": [
      "지영\n",
      "형욱\n"
     ]
    }
   ],
   "source": [
    "hyoung.name = \"형욱\"\n",
    "print(jee.name)\n",
    "print(hyoung.name)"
   ]
  },
  {
   "cell_type": "code",
   "execution_count": 6,
   "id": "f9abe5f4",
   "metadata": {},
   "outputs": [],
   "source": [
    "#프로퍼티 테스트\n",
    "class proTest :\n",
    "    def __init__(self, name):\n",
    "        self.name = name\n",
    "    def get_name(self) :\n",
    "        print(\"getter 동작!\")\n",
    "        return self._name \n",
    "    def set_name(self, name):\n",
    "        print(\"setter 동장!!\")\n",
    "        self._name = name\n",
    "   \n",
    "    name = property(get_name , set_name)\n",
    "    "
   ]
  },
  {
   "cell_type": "code",
   "execution_count": 2,
   "id": "4d4f0dc9",
   "metadata": {},
   "outputs": [
    {
     "name": "stdout",
     "output_type": "stream",
     "text": [
      "setter 동장!!\n",
      "getter 동작!\n",
      "지영\n",
      "setter 동장!!\n"
     ]
    }
   ],
   "source": [
    "p1 = proTest(\"지영\")\n",
    "print(p1.name)\n",
    "p1.name=\"지영이\""
   ]
  },
  {
   "cell_type": "code",
   "execution_count": 20,
   "id": "26edabf1",
   "metadata": {},
   "outputs": [
    {
     "name": "stdout",
     "output_type": "stream",
     "text": [
      "getter 동작!\n",
      "지영\n",
      "setter 동장!!\n",
      "지영이\n"
     ]
    }
   ],
   "source": [
    "#프로퍼티 테스트 (데코레이터 사용)\n",
    "class proTest2 :\n",
    "    def __init__(self, name):\n",
    "        self._name = name\n",
    "    \n",
    "    @property\n",
    "    def name(self) :\n",
    "        print(\"getter 동작!\")\n",
    "        return self._name \n",
    "    \n",
    "    @name.setter\n",
    "    def name(self, name):\n",
    "        print(\"setter 동장!!\")\n",
    "        self._name = name\n",
    "    \n",
    "p2 = proTest2(\"지영\")\n",
    "print(p2.name) \n",
    "p2.name = \"지영이\"\n",
    "print(p2._name)"
   ]
  },
  {
   "cell_type": "code",
   "execution_count": 16,
   "id": "770b746a",
   "metadata": {},
   "outputs": [],
   "source": [
    "class underTest :\n",
    "    def __init__(self, name , age):\n",
    "        self.name = name\n",
    "        self._age = age\n"
   ]
  },
  {
   "cell_type": "code",
   "execution_count": 19,
   "id": "644d8f97",
   "metadata": {},
   "outputs": [
    {
     "name": "stdout",
     "output_type": "stream",
     "text": [
      "지영\n",
      "27\n"
     ]
    }
   ],
   "source": [
    "u = underTest(\"지영\" , 27)\n",
    "print(u.name)\n",
    "print(u._age)"
   ]
  },
  {
   "cell_type": "code",
   "execution_count": null,
   "id": "8c0d24db",
   "metadata": {},
   "outputs": [],
   "source": [
    "print()"
   ]
  }
 ],
 "metadata": {
  "kernelspec": {
   "display_name": "Python 3 (ipykernel)",
   "language": "python",
   "name": "python3"
  },
  "language_info": {
   "codemirror_mode": {
    "name": "ipython",
    "version": 3
   },
   "file_extension": ".py",
   "mimetype": "text/x-python",
   "name": "python",
   "nbconvert_exporter": "python",
   "pygments_lexer": "ipython3",
   "version": "3.9.7"
  }
 },
 "nbformat": 4,
 "nbformat_minor": 5
}
