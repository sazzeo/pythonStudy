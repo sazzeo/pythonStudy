{
 "cells": [
  {
   "cell_type": "code",
   "execution_count": 6,
   "id": "dce9ee4d",
   "metadata": {},
   "outputs": [],
   "source": [
    "#이름 범위 테스트\n",
    "\n",
    "def scope_test():\n",
    "    def do_local():\n",
    "        message = \"로컬 메세지\"\n",
    "    \n",
    "    def do_nonlocal() :\n",
    "        nonlocal message\n",
    "        message = \"nonlocal 메세지\"\n",
    "        \n",
    "    def do_global():\n",
    "        global message\n",
    "        message = \"global 메세지\"\n",
    "    \n",
    "    message = \"test massage\"\n",
    "    \n",
    "    do_local()\n",
    "    print(message)\n",
    "    do_nonlocal()\n",
    "    print(message)\n",
    "    do_global()\n",
    "    print(message)\n",
    "    \n",
    "        \n"
   ]
  },
  {
   "cell_type": "code",
   "execution_count": null,
   "id": "b92168a2",
   "metadata": {},
   "outputs": [],
   "source": []
  },
  {
   "cell_type": "code",
   "execution_count": 8,
   "id": "a5cbc3f1",
   "metadata": {},
   "outputs": [
    {
     "name": "stdout",
     "output_type": "stream",
     "text": [
      "test massage\n",
      "nonlocal 메세지\n",
      "nonlocal 메세지\n",
      "global 메세지\n"
     ]
    }
   ],
   "source": [
    "scope_test()\n",
    "print(message)"
   ]
  },
  {
   "cell_type": "code",
   "execution_count": 12,
   "id": "fb3239e0",
   "metadata": {},
   "outputs": [
    {
     "name": "stdout",
     "output_type": "stream",
     "text": [
      "지영\n",
      "안녕하세요\n"
     ]
    }
   ],
   "source": [
    "# 클래스 선언\n",
    "\n",
    "class Student:\n",
    "    name = \"지영\"\n",
    "    def hi(self) :\n",
    "        return \"안녕하세요\"\n",
    "    \n",
    "print(Student.name)\n",
    "print(Student.hi(0)) # self매개변수를 줬기때문에 의미없이 매개변수 줬음..\n"
   ]
  },
  {
   "cell_type": "code",
   "execution_count": 16,
   "id": "253dc3e8",
   "metadata": {},
   "outputs": [
    {
     "name": "stdout",
     "output_type": "stream",
     "text": [
      "지영\n",
      "안녕하세요\n"
     ]
    }
   ],
   "source": [
    "jee = Student()\n",
    "print(jee.name)\n",
    "print(jee.hi())"
   ]
  },
  {
   "cell_type": "code",
   "execution_count": null,
   "id": "b194c235",
   "metadata": {},
   "outputs": [],
   "source": []
  },
  {
   "cell_type": "code",
   "execution_count": null,
   "id": "7cab4ac8",
   "metadata": {},
   "outputs": [],
   "source": []
  },
  {
   "cell_type": "code",
   "execution_count": null,
   "id": "bd34b945",
   "metadata": {},
   "outputs": [],
   "source": []
  },
  {
   "cell_type": "code",
   "execution_count": null,
   "id": "8a56c481",
   "metadata": {},
   "outputs": [],
   "source": []
  },
  {
   "cell_type": "code",
   "execution_count": null,
   "id": "6675c4e1",
   "metadata": {},
   "outputs": [],
   "source": []
  },
  {
   "cell_type": "code",
   "execution_count": null,
   "id": "1bed63d9",
   "metadata": {},
   "outputs": [],
   "source": []
  },
  {
   "cell_type": "code",
   "execution_count": null,
   "id": "4e04d47e",
   "metadata": {},
   "outputs": [],
   "source": []
  },
  {
   "cell_type": "code",
   "execution_count": null,
   "id": "7cc75b13",
   "metadata": {},
   "outputs": [],
   "source": []
  },
  {
   "cell_type": "code",
   "execution_count": null,
   "id": "a008071d",
   "metadata": {},
   "outputs": [],
   "source": []
  }
 ],
 "metadata": {
  "kernelspec": {
   "display_name": "Python 3 (ipykernel)",
   "language": "python",
   "name": "python3"
  },
  "language_info": {
   "codemirror_mode": {
    "name": "ipython",
    "version": 3
   },
   "file_extension": ".py",
   "mimetype": "text/x-python",
   "name": "python",
   "nbconvert_exporter": "python",
   "pygments_lexer": "ipython3",
   "version": "3.9.7"
  }
 },
 "nbformat": 4,
 "nbformat_minor": 5
}
