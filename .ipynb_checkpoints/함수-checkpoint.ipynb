{
 "cells": [
  {
   "cell_type": "code",
   "execution_count": 8,
   "id": "842c5c2b",
   "metadata": {},
   "outputs": [
    {
     "name": "stdout",
     "output_type": "stream",
     "text": [
      "hello\n"
     ]
    }
   ],
   "source": [
    "#함수 정의하기\n",
    "def hello() :\n",
    "    \"\"\"함수 설명문(docString)은 관례적으로 def아래에 작성한다\"\"\"\n",
    "    print(\"hello\")\n",
    "\n",
    "hello()"
   ]
  },
  {
   "cell_type": "code",
   "execution_count": 9,
   "id": "5cd457d8",
   "metadata": {},
   "outputs": [
    {
     "name": "stdout",
     "output_type": "stream",
     "text": [
      "Help on function hello in module __main__:\n",
      "\n",
      "hello()\n",
      "    함수 설명문(docString)은 관례적으로 def아래에 작성한다\n",
      "\n"
     ]
    }
   ],
   "source": [
    "help(hello) #위 설명문 호출"
   ]
  },
  {
   "cell_type": "code",
   "execution_count": 6,
   "id": "953998a0",
   "metadata": {},
   "outputs": [
    {
     "name": "stdout",
     "output_type": "stream",
     "text": [
      "hi 지영!\n"
     ]
    }
   ],
   "source": [
    "#파라미터 주기\n",
    "def hi(name):\n",
    "    print(\"hi\", name + \"!\")\n",
    "\n",
    "hi(\"지영\")"
   ]
  },
  {
   "cell_type": "code",
   "execution_count": 7,
   "id": "8c95e460",
   "metadata": {},
   "outputs": [
    {
     "name": "stdout",
     "output_type": "stream",
     "text": [
      "hi 졍!\n"
     ]
    }
   ],
   "source": [
    "name = \"졍\"\n",
    "hi(name)"
   ]
  },
  {
   "cell_type": "code",
   "execution_count": 18,
   "id": "f5bd03fb",
   "metadata": {},
   "outputs": [
    {
     "ename": "SyntaxError",
     "evalue": "name 'a' is used prior to global declaration (Temp/ipykernel_14872/2760424627.py, line 5)",
     "output_type": "error",
     "traceback": [
      "\u001b[1;36m  File \u001b[1;32m\"C:\\Users\\JEEYOU~1\\AppData\\Local\\Temp/ipykernel_14872/2760424627.py\"\u001b[1;36m, line \u001b[1;32m5\u001b[0m\n\u001b[1;33m    global a\u001b[0m\n\u001b[1;37m    ^\u001b[0m\n\u001b[1;31mSyntaxError\u001b[0m\u001b[1;31m:\u001b[0m name 'a' is used prior to global declaration\n"
     ]
    }
   ],
   "source": [
    "#함수 내부에서 전역변수 선언하기 : global\n",
    "#if문 안타도 선언 됨.\n",
    "def globalVar() :\n",
    "    print(a)\n",
    "    if (False) :\n",
    "        global a \n",
    "        a= \"지역변수\"\n",
    "\n",
    "a = \"전역변수\"\n",
    "globalVar()\n",
    "print(a)"
   ]
  },
  {
   "cell_type": "code",
   "execution_count": 25,
   "id": "464c4682",
   "metadata": {},
   "outputs": [
    {
     "name": "stdout",
     "output_type": "stream",
     "text": [
      "전역변수\n",
      "지역변수\n"
     ]
    }
   ],
   "source": [
    "def globalVar() :\n",
    "    global a \n",
    "    print(a)\n",
    "    a= \"지역변수\"\n",
    "\n",
    "a = \"전역변수\"\n",
    "globalVar()\n",
    "print(a)"
   ]
  },
  {
   "cell_type": "code",
   "execution_count": 28,
   "id": "44a810e9",
   "metadata": {},
   "outputs": [
    {
     "name": "stdout",
     "output_type": "stream",
     "text": [
      "지영의 나이는 10살 입니다.\n",
      "사쪄의 나이는 27살 입니다.\n"
     ]
    }
   ],
   "source": [
    "#디폴트 인수 사용하기\n",
    "\n",
    "def defaultVal(name=\"지영\" , age = \"10\"):\n",
    "    print(name + \"의 나이는 \" + age + \"살 입니다.\")\n",
    "    \n",
    "defaultVal()\n",
    "defaultVal(\"사쪄\" , \"27\")"
   ]
  },
  {
   "cell_type": "code",
   "execution_count": 32,
   "id": "c0763fef",
   "metadata": {},
   "outputs": [
    {
     "name": "stdout",
     "output_type": "stream",
     "text": [
      "1\n",
      "2\n",
      "3\n",
      "4\n"
     ]
    }
   ],
   "source": [
    "#키워드 인수 사용하기\n",
    "\n",
    "def valTest(a,b,c,d): \n",
    "    print(a)\n",
    "    print(b)\n",
    "    print(c)\n",
    "    print(d)\n",
    "    \n",
    "valTest(1,2,d=4 , c=3)"
   ]
  },
  {
   "cell_type": "code",
   "execution_count": 34,
   "id": "793dd1b4",
   "metadata": {},
   "outputs": [
    {
     "name": "stdout",
     "output_type": "stream",
     "text": [
      "None\n",
      "[1, 2, 3]\n",
      "(1, 2, 3)\n"
     ]
    }
   ],
   "source": [
    "#리턴 테스트\n",
    "\n",
    "#리턴 없을떄\n",
    "def returnTest1():\n",
    "    pass\n",
    "\n",
    "def returnTest2():\n",
    "    return [1,2,3]\n",
    "\n",
    "def returnTest3():\n",
    "    return 1,2,3\n",
    "\n",
    "print(returnTest1())\n",
    "print(returnTest2())\n",
    "print(returnTest3())"
   ]
  },
  {
   "cell_type": "code",
   "execution_count": null,
   "id": "3149e5f1",
   "metadata": {},
   "outputs": [],
   "source": []
  },
  {
   "cell_type": "code",
   "execution_count": null,
   "id": "748d15ec",
   "metadata": {},
   "outputs": [],
   "source": []
  },
  {
   "cell_type": "code",
   "execution_count": null,
   "id": "3a96d339",
   "metadata": {},
   "outputs": [],
   "source": []
  },
  {
   "cell_type": "code",
   "execution_count": null,
   "id": "16196861",
   "metadata": {},
   "outputs": [],
   "source": []
  },
  {
   "cell_type": "code",
   "execution_count": null,
   "id": "7182c71e",
   "metadata": {},
   "outputs": [],
   "source": []
  },
  {
   "cell_type": "code",
   "execution_count": null,
   "id": "de31d8c6",
   "metadata": {},
   "outputs": [],
   "source": []
  },
  {
   "cell_type": "code",
   "execution_count": null,
   "id": "dc5547e8",
   "metadata": {},
   "outputs": [],
   "source": []
  },
  {
   "cell_type": "code",
   "execution_count": null,
   "id": "78a79262",
   "metadata": {},
   "outputs": [],
   "source": []
  },
  {
   "cell_type": "code",
   "execution_count": null,
   "id": "28203e6e",
   "metadata": {},
   "outputs": [],
   "source": []
  },
  {
   "cell_type": "code",
   "execution_count": null,
   "id": "4ac48119",
   "metadata": {},
   "outputs": [],
   "source": []
  },
  {
   "cell_type": "code",
   "execution_count": null,
   "id": "47aa0b17",
   "metadata": {},
   "outputs": [],
   "source": []
  },
  {
   "cell_type": "code",
   "execution_count": null,
   "id": "48c06eed",
   "metadata": {},
   "outputs": [],
   "source": []
  },
  {
   "cell_type": "code",
   "execution_count": null,
   "id": "eb9f2ec5",
   "metadata": {},
   "outputs": [],
   "source": []
  },
  {
   "cell_type": "code",
   "execution_count": null,
   "id": "d20202ce",
   "metadata": {},
   "outputs": [],
   "source": []
  },
  {
   "cell_type": "code",
   "execution_count": null,
   "id": "ebc43663",
   "metadata": {},
   "outputs": [],
   "source": []
  },
  {
   "cell_type": "code",
   "execution_count": null,
   "id": "6540adbd",
   "metadata": {},
   "outputs": [],
   "source": []
  },
  {
   "cell_type": "code",
   "execution_count": null,
   "id": "90f420b2",
   "metadata": {},
   "outputs": [],
   "source": []
  },
  {
   "cell_type": "code",
   "execution_count": null,
   "id": "32b3ced5",
   "metadata": {},
   "outputs": [],
   "source": []
  },
  {
   "cell_type": "code",
   "execution_count": null,
   "id": "945128f9",
   "metadata": {},
   "outputs": [],
   "source": []
  },
  {
   "cell_type": "code",
   "execution_count": null,
   "id": "8eb2303b",
   "metadata": {},
   "outputs": [],
   "source": []
  },
  {
   "cell_type": "code",
   "execution_count": null,
   "id": "49d89171",
   "metadata": {},
   "outputs": [],
   "source": []
  },
  {
   "cell_type": "code",
   "execution_count": null,
   "id": "19f20864",
   "metadata": {},
   "outputs": [],
   "source": []
  }
 ],
 "metadata": {
  "kernelspec": {
   "display_name": "Python 3 (ipykernel)",
   "language": "python",
   "name": "python3"
  },
  "language_info": {
   "codemirror_mode": {
    "name": "ipython",
    "version": 3
   },
   "file_extension": ".py",
   "mimetype": "text/x-python",
   "name": "python",
   "nbconvert_exporter": "python",
   "pygments_lexer": "ipython3",
   "version": "3.9.7"
  }
 },
 "nbformat": 4,
 "nbformat_minor": 5
}
