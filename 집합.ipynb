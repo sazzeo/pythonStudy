{
 "cells": [
  {
   "cell_type": "code",
   "execution_count": 1,
   "id": "d1c4dcd7",
   "metadata": {},
   "outputs": [],
   "source": [
    "setA = {1,2,3,(1,2) , \"two\"} #순서가 보장되지 않음"
   ]
  },
  {
   "cell_type": "code",
   "execution_count": 3,
   "id": "169fb746",
   "metadata": {},
   "outputs": [
    {
     "name": "stdout",
     "output_type": "stream",
     "text": [
      "{1, 2, 3, (1, 2), 'two'}\n"
     ]
    }
   ],
   "source": [
    "print(setA)"
   ]
  },
  {
   "cell_type": "code",
   "execution_count": 5,
   "id": "7164d5f0",
   "metadata": {},
   "outputs": [
    {
     "name": "stdout",
     "output_type": "stream",
     "text": [
      "set()\n"
     ]
    }
   ],
   "source": [
    "setB = set()\n",
    "print(setB)"
   ]
  },
  {
   "cell_type": "code",
   "execution_count": 1,
   "id": "2f945596",
   "metadata": {},
   "outputs": [
    {
     "name": "stdout",
     "output_type": "stream",
     "text": [
      "{'e', 'a', 'd', 'b', 'f', 'c', 'g'}\n"
     ]
    }
   ],
   "source": [
    "setC =set('abcdefg') #문자열 주면 문자열도 이터레이블이기때문에 char로 set이 만들어짐(순서 보장 안됨)\n",
    "print(setC)"
   ]
  },
  {
   "cell_type": "code",
   "execution_count": 2,
   "id": "d0b46e42",
   "metadata": {},
   "outputs": [
    {
     "data": {
      "text/plain": [
       "7"
      ]
     },
     "execution_count": 2,
     "metadata": {},
     "output_type": "execute_result"
    }
   ],
   "source": [
    "len(setC)"
   ]
  },
  {
   "cell_type": "code",
   "execution_count": 3,
   "id": "72e84ace",
   "metadata": {},
   "outputs": [
    {
     "name": "stdout",
     "output_type": "stream",
     "text": [
      "True\n",
      "False\n"
     ]
    }
   ],
   "source": [
    "print(\"a\" in setC)\n",
    "print(\"b\" not in setC)"
   ]
  },
  {
   "cell_type": "code",
   "execution_count": 4,
   "id": "b3475b30",
   "metadata": {},
   "outputs": [
    {
     "name": "stdout",
     "output_type": "stream",
     "text": [
      "{'a': 1, 'b': 2}\n"
     ]
    }
   ],
   "source": [
    "dictA = dict(a=1 , b=2)\n",
    "print(dictA)"
   ]
  },
  {
   "cell_type": "code",
   "execution_count": 5,
   "id": "a482dfd6",
   "metadata": {},
   "outputs": [
    {
     "data": {
      "text/plain": [
       "True"
      ]
     },
     "execution_count": 5,
     "metadata": {},
     "output_type": "execute_result"
    }
   ],
   "source": [
    "\"a\" in dictA"
   ]
  },
  {
   "cell_type": "code",
   "execution_count": 6,
   "id": "98522a28",
   "metadata": {},
   "outputs": [
    {
     "data": {
      "text/plain": [
       "False"
      ]
     },
     "execution_count": 6,
     "metadata": {},
     "output_type": "execute_result"
    }
   ],
   "source": [
    "\"a\" not in dictA"
   ]
  },
  {
   "cell_type": "code",
   "execution_count": 14,
   "id": "a2b9fb42",
   "metadata": {},
   "outputs": [
    {
     "name": "stdout",
     "output_type": "stream",
     "text": [
      "{'e', 'a', 'd', 'b', 'f', 'c'}\n"
     ]
    }
   ],
   "source": [
    "setD = set(\"abcd\")\n",
    "setE = set(\"cdef\")\n",
    "setF = setD.union(setE) # union은 원래 set변화없음\n",
    "print(setF)"
   ]
  },
  {
   "cell_type": "code",
   "execution_count": 9,
   "id": "cfd19427",
   "metadata": {},
   "outputs": [
    {
     "name": "stdout",
     "output_type": "stream",
     "text": [
      "{'e', 'a', 'd', 'b', 'f', 'c'}\n"
     ]
    }
   ],
   "source": [
    "setG=setD|setE\n",
    "print(setG)"
   ]
  },
  {
   "cell_type": "code",
   "execution_count": 10,
   "id": "18379142",
   "metadata": {},
   "outputs": [
    {
     "name": "stdout",
     "output_type": "stream",
     "text": [
      "{'e', 'a', 'd', 'b', 'f', 'c'}\n"
     ]
    }
   ],
   "source": [
    "setD.update(setE)\n",
    "print(setD) #setD가 직접 변화됨 ( union과 다른점)"
   ]
  },
  {
   "cell_type": "code",
   "execution_count": 12,
   "id": "ff0e3508",
   "metadata": {},
   "outputs": [
    {
     "name": "stdout",
     "output_type": "stream",
     "text": [
      "{'e', 'f', 'c', 'd'}\n"
     ]
    }
   ],
   "source": [
    "print(setE)\n",
    "setE |= setD"
   ]
  },
  {
   "cell_type": "code",
   "execution_count": 13,
   "id": "11d04e6a",
   "metadata": {},
   "outputs": [
    {
     "name": "stdout",
     "output_type": "stream",
     "text": [
      "{'e', 'a', 'd', 'b', 'f', 'c'}\n"
     ]
    }
   ],
   "source": [
    "print(setE)"
   ]
  },
  {
   "cell_type": "code",
   "execution_count": 15,
   "id": "5c4bc7d7",
   "metadata": {},
   "outputs": [
    {
     "data": {
      "text/plain": [
       "{'c', 'd'}"
      ]
     },
     "execution_count": 15,
     "metadata": {},
     "output_type": "execute_result"
    }
   ],
   "source": [
    "setD.intersection(setE) #교집합"
   ]
  },
  {
   "cell_type": "code",
   "execution_count": 16,
   "id": "ab8dfe8d",
   "metadata": {},
   "outputs": [
    {
     "data": {
      "text/plain": [
       "{'c', 'd'}"
      ]
     },
     "execution_count": 16,
     "metadata": {},
     "output_type": "execute_result"
    }
   ],
   "source": [
    "setD&setE"
   ]
  },
  {
   "cell_type": "code",
   "execution_count": 21,
   "id": "6439b7b8",
   "metadata": {},
   "outputs": [
    {
     "name": "stdout",
     "output_type": "stream",
     "text": [
      "difference: {'b', 'a'}\n",
      "-연산 : {'b', 'a'}\n"
     ]
    }
   ],
   "source": [
    "#차집합\n",
    "setD = set(\"abcd\")\n",
    "setE = set(\"cdef\")\n",
    "print(\"difference:\",setD.difference(setE))\n",
    "print(\"-연산 :\" ,setD-setE)"
   ]
  },
  {
   "cell_type": "code",
   "execution_count": 22,
   "id": "2f2d5a38",
   "metadata": {},
   "outputs": [
    {
     "name": "stdout",
     "output_type": "stream",
     "text": [
      "{'a', 'b'}\n"
     ]
    }
   ],
   "source": [
    "#차집합 update\n",
    "setD.difference_update(setE)\n",
    "print(setD)\n"
   ]
  },
  {
   "cell_type": "code",
   "execution_count": 23,
   "id": "08ca8bee",
   "metadata": {},
   "outputs": [
    {
     "data": {
      "text/plain": [
       "{'a', 'b', 'e', 'f'}"
      ]
     },
     "execution_count": 23,
     "metadata": {},
     "output_type": "execute_result"
    }
   ],
   "source": [
    "#대칭차집합\n",
    "setD = set(\"abcd\")\n",
    "setE = set(\"cdef\")\n",
    "setD.symmetric_difference(setE)"
   ]
  },
  {
   "cell_type": "code",
   "execution_count": 26,
   "id": "f40653db",
   "metadata": {},
   "outputs": [
    {
     "name": "stdout",
     "output_type": "stream",
     "text": [
      "{'e', 'a', 'b', 'f'}\n"
     ]
    }
   ],
   "source": [
    "setD = set(\"abcd\")\n",
    "setE = set(\"cdef\")\n",
    "setD.symmetric_difference_update(setE)\n",
    "print(setD)"
   ]
  },
  {
   "cell_type": "code",
   "execution_count": 28,
   "id": "f0dcdf42",
   "metadata": {},
   "outputs": [
    {
     "data": {
      "text/plain": [
       "True"
      ]
     },
     "execution_count": 28,
     "metadata": {},
     "output_type": "execute_result"
    }
   ],
   "source": [
    "#부분집합 검사 : subset\n",
    "setF = set(\"abcdef\")\n",
    "setG = set(\"cdef\")\n",
    "setF.issubset(setG)"
   ]
  },
  {
   "cell_type": "code",
   "execution_count": 29,
   "id": "75bee885",
   "metadata": {},
   "outputs": [
    {
     "data": {
      "text/plain": [
       "True"
      ]
     },
     "execution_count": 29,
     "metadata": {},
     "output_type": "execute_result"
    }
   ],
   "source": [
    "#상위집합 검사 (부분집합 반대)\n",
    "setF = set(\"abcdef\")\n",
    "setG = set(\"cdef\")\n",
    "setF.issuperset(setG)"
   ]
  },
  {
   "cell_type": "code",
   "execution_count": 33,
   "id": "566b2d92",
   "metadata": {},
   "outputs": [
    {
     "name": "stdout",
     "output_type": "stream",
     "text": [
      "False\n",
      "True\n",
      "True\n"
     ]
    }
   ],
   "source": [
    "#서로 같은가?\n",
    "setF = set(\"abcd\")\n",
    "setG = set(\"abcd\")\n",
    "setH = setF\n",
    "print(setF is setG)\n",
    "print(setH is setF)\n",
    "print(setF == setG)"
   ]
  },
  {
   "cell_type": "code",
   "execution_count": 35,
   "id": "0880692f",
   "metadata": {},
   "outputs": [
    {
     "name": "stdout",
     "output_type": "stream",
     "text": [
      "{'e', 'a', 'd', 'b', 'c', 'g'}\n"
     ]
    }
   ],
   "source": [
    "setI = set(\"abcde\")\n",
    "setI.add(\"e\")\n",
    "setI.add(\"g\")\n",
    "print(setI)"
   ]
  },
  {
   "cell_type": "code",
   "execution_count": 36,
   "id": "30affd35",
   "metadata": {},
   "outputs": [
    {
     "name": "stdout",
     "output_type": "stream",
     "text": [
      "{'e', 'd', 'b', 'c'}\n"
     ]
    }
   ],
   "source": [
    "setI = set(\"abcde\")\n",
    "setI.discard(\"a\")\n",
    "setI.discard(\"z\") #없는 원소 discard해도 에러 안남\n",
    "print(setI)"
   ]
  },
  {
   "cell_type": "code",
   "execution_count": 38,
   "id": "0ae7a472",
   "metadata": {},
   "outputs": [
    {
     "name": "stdout",
     "output_type": "stream",
     "text": [
      "{'d', 'b', 'c'}\n"
     ]
    }
   ],
   "source": [
    "#임의의 원소 제거\n",
    "setI.pop()\n",
    "print(setI)"
   ]
  },
  {
   "cell_type": "code",
   "execution_count": 39,
   "id": "d1f1f7d2",
   "metadata": {},
   "outputs": [
    {
     "ename": "KeyError",
     "evalue": "'pop from an empty set'",
     "output_type": "error",
     "traceback": [
      "\u001b[1;31m---------------------------------------------------------------------------\u001b[0m",
      "\u001b[1;31mKeyError\u001b[0m                                  Traceback (most recent call last)",
      "\u001b[1;32mC:\\Users\\JEEYOU~1\\AppData\\Local\\Temp/ipykernel_20888/758574498.py\u001b[0m in \u001b[0;36m<module>\u001b[1;34m\u001b[0m\n\u001b[0;32m      1\u001b[0m \u001b[0msetJ\u001b[0m \u001b[1;33m=\u001b[0m \u001b[0mset\u001b[0m\u001b[1;33m(\u001b[0m\u001b[1;33m)\u001b[0m\u001b[1;33m;\u001b[0m\u001b[1;33m\u001b[0m\u001b[1;33m\u001b[0m\u001b[0m\n\u001b[1;32m----> 2\u001b[1;33m \u001b[0msetJ\u001b[0m\u001b[1;33m.\u001b[0m\u001b[0mpop\u001b[0m\u001b[1;33m(\u001b[0m\u001b[1;33m)\u001b[0m\u001b[1;33m\u001b[0m\u001b[1;33m\u001b[0m\u001b[0m\n\u001b[0m",
      "\u001b[1;31mKeyError\u001b[0m: 'pop from an empty set'"
     ]
    }
   ],
   "source": [
    "setJ = set();\n",
    "setJ.pop()"
   ]
  },
  {
   "cell_type": "code",
   "execution_count": 40,
   "id": "47ee4e78",
   "metadata": {},
   "outputs": [
    {
     "name": "stdout",
     "output_type": "stream",
     "text": [
      "frozenset({'e', 'a', 'd', 'b', 'c'})\n"
     ]
    }
   ],
   "source": [
    "setK = frozenset(\"abcde\")\n",
    "print(setK)"
   ]
  },
  {
   "cell_type": "code",
   "execution_count": 42,
   "id": "991272b1",
   "metadata": {},
   "outputs": [
    {
     "data": {
      "text/plain": [
       "True"
      ]
     },
     "execution_count": 42,
     "metadata": {},
     "output_type": "execute_result"
    }
   ],
   "source": [
    "setL = set(\"ab\")\n",
    "setM = set(\"cd\")\n",
    "setL.isdisjoint(setM)"
   ]
  },
  {
   "cell_type": "code",
   "execution_count": null,
   "id": "1e548f80",
   "metadata": {},
   "outputs": [],
   "source": []
  },
  {
   "cell_type": "code",
   "execution_count": null,
   "id": "2c17d491",
   "metadata": {},
   "outputs": [],
   "source": []
  },
  {
   "cell_type": "code",
   "execution_count": null,
   "id": "9ef522eb",
   "metadata": {},
   "outputs": [],
   "source": []
  },
  {
   "cell_type": "code",
   "execution_count": null,
   "id": "780ca8d5",
   "metadata": {},
   "outputs": [],
   "source": []
  },
  {
   "cell_type": "code",
   "execution_count": null,
   "id": "0c6475b2",
   "metadata": {},
   "outputs": [],
   "source": []
  },
  {
   "cell_type": "code",
   "execution_count": null,
   "id": "2eff2922",
   "metadata": {},
   "outputs": [],
   "source": []
  },
  {
   "cell_type": "code",
   "execution_count": null,
   "id": "65e13869",
   "metadata": {},
   "outputs": [],
   "source": []
  },
  {
   "cell_type": "code",
   "execution_count": null,
   "id": "c35bf583",
   "metadata": {},
   "outputs": [],
   "source": []
  },
  {
   "cell_type": "code",
   "execution_count": null,
   "id": "f6fa440f",
   "metadata": {},
   "outputs": [],
   "source": []
  },
  {
   "cell_type": "code",
   "execution_count": null,
   "id": "87588bf7",
   "metadata": {},
   "outputs": [],
   "source": []
  },
  {
   "cell_type": "code",
   "execution_count": null,
   "id": "01f6989d",
   "metadata": {},
   "outputs": [],
   "source": []
  },
  {
   "cell_type": "code",
   "execution_count": null,
   "id": "ae5f64f7",
   "metadata": {},
   "outputs": [],
   "source": [
    "se"
   ]
  },
  {
   "cell_type": "code",
   "execution_count": null,
   "id": "2aadf129",
   "metadata": {},
   "outputs": [],
   "source": []
  },
  {
   "cell_type": "code",
   "execution_count": null,
   "id": "58e48857",
   "metadata": {},
   "outputs": [],
   "source": []
  }
 ],
 "metadata": {
  "kernelspec": {
   "display_name": "Python 3 (ipykernel)",
   "language": "python",
   "name": "python3"
  },
  "language_info": {
   "codemirror_mode": {
    "name": "ipython",
    "version": 3
   },
   "file_extension": ".py",
   "mimetype": "text/x-python",
   "name": "python",
   "nbconvert_exporter": "python",
   "pygments_lexer": "ipython3",
   "version": "3.9.7"
  }
 },
 "nbformat": 4,
 "nbformat_minor": 5
}
