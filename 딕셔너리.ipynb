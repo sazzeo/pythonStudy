{
 "cells": [
  {
   "cell_type": "code",
   "execution_count": 2,
   "id": "a8362906",
   "metadata": {},
   "outputs": [],
   "source": [
    "dictA = {1:\"1\" , 2:\"2\" , 3:\"3\"}"
   ]
  },
  {
   "cell_type": "code",
   "execution_count": null,
   "id": "1d458df7",
   "metadata": {},
   "outputs": [],
   "source": []
  },
  {
   "cell_type": "code",
   "execution_count": 2,
   "id": "f39326a6",
   "metadata": {},
   "outputs": [
    {
     "data": {
      "text/plain": [
       "['__class__',\n",
       " '__class_getitem__',\n",
       " '__contains__',\n",
       " '__delattr__',\n",
       " '__delitem__',\n",
       " '__dir__',\n",
       " '__doc__',\n",
       " '__eq__',\n",
       " '__format__',\n",
       " '__ge__',\n",
       " '__getattribute__',\n",
       " '__getitem__',\n",
       " '__gt__',\n",
       " '__hash__',\n",
       " '__init__',\n",
       " '__init_subclass__',\n",
       " '__ior__',\n",
       " '__iter__',\n",
       " '__le__',\n",
       " '__len__',\n",
       " '__lt__',\n",
       " '__ne__',\n",
       " '__new__',\n",
       " '__or__',\n",
       " '__reduce__',\n",
       " '__reduce_ex__',\n",
       " '__repr__',\n",
       " '__reversed__',\n",
       " '__ror__',\n",
       " '__setattr__',\n",
       " '__setitem__',\n",
       " '__sizeof__',\n",
       " '__str__',\n",
       " '__subclasshook__',\n",
       " 'clear',\n",
       " 'copy',\n",
       " 'fromkeys',\n",
       " 'get',\n",
       " 'items',\n",
       " 'keys',\n",
       " 'pop',\n",
       " 'popitem',\n",
       " 'setdefault',\n",
       " 'update',\n",
       " 'values']"
      ]
     },
     "execution_count": 2,
     "metadata": {},
     "output_type": "execute_result"
    }
   ],
   "source": [
    "dir(dict)"
   ]
  },
  {
   "cell_type": "code",
   "execution_count": 3,
   "id": "d09ddafa",
   "metadata": {},
   "outputs": [
    {
     "data": {
      "text/plain": [
       "'1'"
      ]
     },
     "execution_count": 3,
     "metadata": {},
     "output_type": "execute_result"
    }
   ],
   "source": [
    "dictA.get(1)"
   ]
  },
  {
   "cell_type": "code",
   "execution_count": 4,
   "id": "d0c797d4",
   "metadata": {},
   "outputs": [
    {
     "name": "stdout",
     "output_type": "stream",
     "text": [
      "{} {}\n"
     ]
    }
   ],
   "source": [
    "dictB = dict() #빈객체 생성\n",
    "dictC = {} #빈객체 생성2\n",
    "print(dictB , dictC)"
   ]
  },
  {
   "cell_type": "code",
   "execution_count": 3,
   "id": "ee80fbd7",
   "metadata": {},
   "outputs": [
    {
     "name": "stdout",
     "output_type": "stream",
     "text": [
      "{1: '1', 2: '2', 3: '3'}\n"
     ]
    }
   ],
   "source": [
    "print(dictA)"
   ]
  },
  {
   "cell_type": "code",
   "execution_count": 5,
   "id": "2e1d7eac",
   "metadata": {},
   "outputs": [
    {
     "name": "stdout",
     "output_type": "stream",
     "text": [
      "2\n"
     ]
    }
   ],
   "source": [
    "print(dictA[2])"
   ]
  },
  {
   "cell_type": "code",
   "execution_count": 10,
   "id": "512d55ec",
   "metadata": {},
   "outputs": [
    {
     "ename": "SyntaxError",
     "evalue": "expression cannot contain assignment, perhaps you meant \"==\"? (Temp/ipykernel_16644/2977669904.py, line 1)",
     "output_type": "error",
     "traceback": [
      "\u001b[1;36m  File \u001b[1;32m\"C:\\Users\\JEEYOU~1\\AppData\\Local\\Temp/ipykernel_16644/2977669904.py\"\u001b[1;36m, line \u001b[1;32m1\u001b[0m\n\u001b[1;33m    dictD = dict(a=1,b=2 , 3=4)\u001b[0m\n\u001b[1;37m                           ^\u001b[0m\n\u001b[1;31mSyntaxError\u001b[0m\u001b[1;31m:\u001b[0m expression cannot contain assignment, perhaps you meant \"==\"?\n"
     ]
    }
   ],
   "source": [
    "dictD = dict(a=1,b=2 , 3=4)"
   ]
  },
  {
   "cell_type": "code",
   "execution_count": 9,
   "id": "8265a2ba",
   "metadata": {},
   "outputs": [
    {
     "name": "stdout",
     "output_type": "stream",
     "text": [
      "{'a': 1, 'b': 2}\n"
     ]
    }
   ],
   "source": [
    "print(dictD)"
   ]
  },
  {
   "cell_type": "code",
   "execution_count": 11,
   "id": "2a116cb2",
   "metadata": {},
   "outputs": [
    {
     "ename": "KeyError",
     "evalue": "4",
     "output_type": "error",
     "traceback": [
      "\u001b[1;31m---------------------------------------------------------------------------\u001b[0m",
      "\u001b[1;31mKeyError\u001b[0m                                  Traceback (most recent call last)",
      "\u001b[1;32mC:\\Users\\JEEYOU~1\\AppData\\Local\\Temp/ipykernel_16644/902238999.py\u001b[0m in \u001b[0;36m<module>\u001b[1;34m\u001b[0m\n\u001b[1;32m----> 1\u001b[1;33m \u001b[0mdictA\u001b[0m\u001b[1;33m[\u001b[0m\u001b[1;36m4\u001b[0m\u001b[1;33m]\u001b[0m\u001b[1;33m\u001b[0m\u001b[1;33m\u001b[0m\u001b[0m\n\u001b[0m",
      "\u001b[1;31mKeyError\u001b[0m: 4"
     ]
    }
   ],
   "source": [
    " dictA[4] #없는값 참조시 에러남"
   ]
  },
  {
   "cell_type": "code",
   "execution_count": 13,
   "id": "fe847d1b",
   "metadata": {},
   "outputs": [
    {
     "name": "stdout",
     "output_type": "stream",
     "text": [
      "{1: 'one', 2: '2', 3: '3'}\n"
     ]
    }
   ],
   "source": [
    "dictA[1] = \"one\"\n",
    "print(dictA) #키값 변경하기"
   ]
  },
  {
   "cell_type": "code",
   "execution_count": 14,
   "id": "2d742c4d",
   "metadata": {},
   "outputs": [
    {
     "name": "stdout",
     "output_type": "stream",
     "text": [
      "{1: 'one', 2: '2', 3: '3', 5: 'five'}\n"
     ]
    }
   ],
   "source": [
    "#키값 추가하기\n",
    "dictA[5] = \"five\"\n",
    "print(dictA)"
   ]
  },
  {
   "cell_type": "code",
   "execution_count": 15,
   "id": "7022c5ed",
   "metadata": {},
   "outputs": [
    {
     "name": "stdout",
     "output_type": "stream",
     "text": [
      "{1: 'one', 2: '2', 3: '3'}\n"
     ]
    }
   ],
   "source": [
    "#키값 삭제하기\n",
    "del dictA[5]\n",
    "print(dictA)"
   ]
  },
  {
   "cell_type": "code",
   "execution_count": 16,
   "id": "21447916",
   "metadata": {},
   "outputs": [
    {
     "data": {
      "text/plain": [
       "True"
      ]
     },
     "execution_count": 16,
     "metadata": {},
     "output_type": "execute_result"
    }
   ],
   "source": [
    "#키가 있는지 확인하기\n",
    "1 in dictA"
   ]
  },
  {
   "cell_type": "code",
   "execution_count": 17,
   "id": "56ff5e59",
   "metadata": {},
   "outputs": [
    {
     "data": {
      "text/plain": [
       "3"
      ]
     },
     "execution_count": 17,
     "metadata": {},
     "output_type": "execute_result"
    }
   ],
   "source": [
    "#개수확인\n",
    "len(dictA)"
   ]
  },
  {
   "cell_type": "code",
   "execution_count": 18,
   "id": "ba8f0e6c",
   "metadata": {},
   "outputs": [
    {
     "name": "stdout",
     "output_type": "stream",
     "text": [
      "['In', 'Out', '_', '_16', '_17', '__', '___', '__builtin__', '__builtins__', '__doc__', '__loader__', '__name__', '__package__', '__spec__', '_dh', '_i', '_i1', '_i10', '_i11', '_i12', '_i13', '_i14', '_i15', '_i16', '_i17', '_i18', '_i2', '_i3', '_i4', '_i5', '_i6', '_i7', '_i8', '_i9', '_ih', '_ii', '_iii', '_oh', 'dictA', 'dictD', 'exit', 'get_ipython', 'quit']\n"
     ]
    }
   ],
   "source": [
    "print(dir()) #현재 선언된 객체들 확인가능"
   ]
  },
  {
   "cell_type": "code",
   "execution_count": 19,
   "id": "91945459",
   "metadata": {},
   "outputs": [
    {
     "data": {
      "text/plain": [
       "['In',\n",
       " 'Out',\n",
       " '_',\n",
       " '_16',\n",
       " '_17',\n",
       " '__',\n",
       " '___',\n",
       " '__builtin__',\n",
       " '__builtins__',\n",
       " '__doc__',\n",
       " '__loader__',\n",
       " '__name__',\n",
       " '__package__',\n",
       " '__spec__',\n",
       " '_dh',\n",
       " '_i',\n",
       " '_i1',\n",
       " '_i10',\n",
       " '_i11',\n",
       " '_i12',\n",
       " '_i13',\n",
       " '_i14',\n",
       " '_i15',\n",
       " '_i16',\n",
       " '_i17',\n",
       " '_i18',\n",
       " '_i19',\n",
       " '_i2',\n",
       " '_i3',\n",
       " '_i4',\n",
       " '_i5',\n",
       " '_i6',\n",
       " '_i7',\n",
       " '_i8',\n",
       " '_i9',\n",
       " '_ih',\n",
       " '_ii',\n",
       " '_iii',\n",
       " '_oh',\n",
       " 'dictA',\n",
       " 'dictD',\n",
       " 'exit',\n",
       " 'get_ipython',\n",
       " 'quit']"
      ]
     },
     "execution_count": 19,
     "metadata": {},
     "output_type": "execute_result"
    }
   ],
   "source": [
    "dir()"
   ]
  },
  {
   "cell_type": "code",
   "execution_count": 20,
   "id": "317d1e3a",
   "metadata": {},
   "outputs": [
    {
     "name": "stdout",
     "output_type": "stream",
     "text": [
      "키값 1\n",
      "value값 one\n",
      "키값 2\n",
      "value값 2\n",
      "키값 3\n",
      "value값 3\n"
     ]
    }
   ],
   "source": [
    "for key in dictA :\n",
    "    print(\"키값\",key)\n",
    "    print(\"value값\" , dictA[key])"
   ]
  },
  {
   "cell_type": "code",
   "execution_count": 22,
   "id": "3ae05a78",
   "metadata": {},
   "outputs": [
    {
     "data": {
      "text/plain": [
       "dict_items([(1, 'one'), (2, '2'), (3, '3')])"
      ]
     },
     "execution_count": 22,
     "metadata": {},
     "output_type": "execute_result"
    }
   ],
   "source": [
    "dictA.items()"
   ]
  },
  {
   "cell_type": "code",
   "execution_count": 25,
   "id": "a06ffb6c",
   "metadata": {},
   "outputs": [
    {
     "name": "stdout",
     "output_type": "stream",
     "text": [
      "None\n"
     ]
    }
   ],
   "source": [
    "print(dictA.get(6))"
   ]
  },
  {
   "cell_type": "code",
   "execution_count": 28,
   "id": "504b9dcf",
   "metadata": {},
   "outputs": [
    {
     "name": "stdout",
     "output_type": "stream",
     "text": [
      "{1: 'new', 2: 'new'}\n"
     ]
    }
   ],
   "source": [
    "dictE = dict.fromkeys((1,2) , 'new') #첫번쨰 인수에는 이터레이블 객체 뭐든 가능(리스트, 튜플, 스트링 등)\n",
    "print(dictE)"
   ]
  },
  {
   "cell_type": "code",
   "execution_count": 29,
   "id": "1482a22b",
   "metadata": {},
   "outputs": [
    {
     "data": {
      "text/plain": [
       "dict_keys([1, 2, 3])"
      ]
     },
     "execution_count": 29,
     "metadata": {},
     "output_type": "execute_result"
    }
   ],
   "source": [
    "dictA.keys()"
   ]
  },
  {
   "cell_type": "code",
   "execution_count": 30,
   "id": "6241c703",
   "metadata": {},
   "outputs": [
    {
     "data": {
      "text/plain": [
       "dict_items([(1, 'one'), (2, '2'), (3, '3')])"
      ]
     },
     "execution_count": 30,
     "metadata": {},
     "output_type": "execute_result"
    }
   ],
   "source": [
    "dictA.items()"
   ]
  },
  {
   "cell_type": "code",
   "execution_count": 31,
   "id": "a18096a2",
   "metadata": {},
   "outputs": [
    {
     "data": {
      "text/plain": [
       "dict_values(['one', '2', '3'])"
      ]
     },
     "execution_count": 31,
     "metadata": {},
     "output_type": "execute_result"
    }
   ],
   "source": [
    "dictA.values()"
   ]
  },
  {
   "cell_type": "code",
   "execution_count": 32,
   "id": "c8f2e9da",
   "metadata": {},
   "outputs": [
    {
     "name": "stdout",
     "output_type": "stream",
     "text": [
      "{1: 'one', 3: '3'}\n"
     ]
    }
   ],
   "source": [
    "dictA.pop(2)\n",
    "print(dictA)"
   ]
  },
  {
   "cell_type": "code",
   "execution_count": 34,
   "id": "447e15f0",
   "metadata": {},
   "outputs": [
    {
     "name": "stdout",
     "output_type": "stream",
     "text": [
      "{1: 'one', 3: '3', 2: 'two'}\n"
     ]
    }
   ],
   "source": [
    "dictA[2] = \"two\"\n",
    "print(dictA)"
   ]
  },
  {
   "cell_type": "code",
   "execution_count": 36,
   "id": "0b10e0b4",
   "metadata": {},
   "outputs": [
    {
     "data": {
      "text/plain": [
       "'hi'"
      ]
     },
     "execution_count": 36,
     "metadata": {},
     "output_type": "execute_result"
    }
   ],
   "source": [
    "dictA.pop(5, \"hi\")"
   ]
  },
  {
   "cell_type": "code",
   "execution_count": 37,
   "id": "1710855a",
   "metadata": {},
   "outputs": [
    {
     "ename": "TypeError",
     "evalue": "dict.popitem() takes no arguments (1 given)",
     "output_type": "error",
     "traceback": [
      "\u001b[1;31m---------------------------------------------------------------------------\u001b[0m",
      "\u001b[1;31mTypeError\u001b[0m                                 Traceback (most recent call last)",
      "\u001b[1;32mC:\\Users\\JEEYOU~1\\AppData\\Local\\Temp/ipykernel_16644/3903463669.py\u001b[0m in \u001b[0;36m<module>\u001b[1;34m\u001b[0m\n\u001b[1;32m----> 1\u001b[1;33m \u001b[0mdictA\u001b[0m\u001b[1;33m.\u001b[0m\u001b[0mpopitem\u001b[0m\u001b[1;33m(\u001b[0m\u001b[1;36m2\u001b[0m\u001b[1;33m)\u001b[0m\u001b[1;33m\u001b[0m\u001b[1;33m\u001b[0m\u001b[0m\n\u001b[0m",
      "\u001b[1;31mTypeError\u001b[0m: dict.popitem() takes no arguments (1 given)"
     ]
    }
   ],
   "source": [
    "dictA.popitem(2)"
   ]
  },
  {
   "cell_type": "code",
   "execution_count": 38,
   "id": "391820bf",
   "metadata": {},
   "outputs": [
    {
     "name": "stdout",
     "output_type": "stream",
     "text": [
      "{}\n"
     ]
    }
   ],
   "source": [
    "dictF = dict()\n",
    "print(dictF)"
   ]
  },
  {
   "cell_type": "code",
   "execution_count": 41,
   "id": "d860294c",
   "metadata": {},
   "outputs": [
    {
     "ename": "KeyError",
     "evalue": "1",
     "output_type": "error",
     "traceback": [
      "\u001b[1;31m---------------------------------------------------------------------------\u001b[0m",
      "\u001b[1;31mKeyError\u001b[0m                                  Traceback (most recent call last)",
      "\u001b[1;32mC:\\Users\\JEEYOU~1\\AppData\\Local\\Temp/ipykernel_16644/2915748547.py\u001b[0m in \u001b[0;36m<module>\u001b[1;34m\u001b[0m\n\u001b[1;32m----> 1\u001b[1;33m \u001b[0mdictF\u001b[0m\u001b[1;33m.\u001b[0m\u001b[0mpop\u001b[0m\u001b[1;33m(\u001b[0m\u001b[1;36m1\u001b[0m\u001b[1;33m)\u001b[0m\u001b[1;33m\u001b[0m\u001b[1;33m\u001b[0m\u001b[0m\n\u001b[0m",
      "\u001b[1;31mKeyError\u001b[0m: 1"
     ]
    }
   ],
   "source": [
    "dictF.pop(1)"
   ]
  },
  {
   "cell_type": "code",
   "execution_count": 42,
   "id": "18e966a8",
   "metadata": {},
   "outputs": [],
   "source": [
    "dictG = {\n",
    "    \"weather\": {\n",
    "        \"ko\" : \"sun\" ,\n",
    "        \"us\" : \"rain\"\n",
    "    }   \n",
    "        \n",
    "        \n",
    "        }"
   ]
  },
  {
   "cell_type": "code",
   "execution_count": 43,
   "id": "e10405b9",
   "metadata": {},
   "outputs": [
    {
     "name": "stdout",
     "output_type": "stream",
     "text": [
      "{'weather': {'ko': 'sun', 'us': 'rain'}}\n"
     ]
    }
   ],
   "source": [
    "print(dictG)"
   ]
  },
  {
   "cell_type": "code",
   "execution_count": 46,
   "id": "2b711d9a",
   "metadata": {},
   "outputs": [
    {
     "data": {
      "text/plain": [
       "'sun'"
      ]
     },
     "execution_count": 46,
     "metadata": {},
     "output_type": "execute_result"
    }
   ],
   "source": [
    "dictG[\"weather\"][\"ko\"]"
   ]
  },
  {
   "cell_type": "code",
   "execution_count": null,
   "id": "6c643461",
   "metadata": {},
   "outputs": [],
   "source": []
  }
 ],
 "metadata": {
  "kernelspec": {
   "display_name": "Python 3 (ipykernel)",
   "language": "python",
   "name": "python3"
  },
  "language_info": {
   "codemirror_mode": {
    "name": "ipython",
    "version": 3
   },
   "file_extension": ".py",
   "mimetype": "text/x-python",
   "name": "python",
   "nbconvert_exporter": "python",
   "pygments_lexer": "ipython3",
   "version": "3.9.7"
  }
 },
 "nbformat": 4,
 "nbformat_minor": 5
}
