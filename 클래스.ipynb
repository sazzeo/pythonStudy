{
 "cells": [
  {
   "cell_type": "code",
   "execution_count": 6,
   "id": "d5370db3",
   "metadata": {},
   "outputs": [],
   "source": [
    "#이름 범위 테스트\n",
    "\n",
    "def scope_test():\n",
    "    def do_local():\n",
    "        message = \"로컬 메세지\"\n",
    "    \n",
    "    def do_nonlocal() :\n",
    "        nonlocal message\n",
    "        message = \"nonlocal 메세지\"\n",
    "        \n",
    "    def do_global():\n",
    "        global message\n",
    "        message = \"global 메세지\"\n",
    "    \n",
    "    message = \"test massage\"\n",
    "    \n",
    "    do_local()\n",
    "    print(message)\n",
    "    do_nonlocal()\n",
    "    print(message)\n",
    "    do_global()\n",
    "    print(message)\n",
    "    \n",
    "        \n"
   ]
  },
  {
   "cell_type": "code",
   "execution_count": 8,
   "id": "9fcfa390",
   "metadata": {},
   "outputs": [
    {
     "name": "stdout",
     "output_type": "stream",
     "text": [
      "test massage\n",
      "nonlocal 메세지\n",
      "nonlocal 메세지\n",
      "global 메세지\n"
     ]
    }
   ],
   "source": [
    "scope_test()\n",
    "print(message)"
   ]
  },
  {
   "cell_type": "code",
   "execution_count": 24,
   "id": "a8a30cb9",
   "metadata": {},
   "outputs": [
    {
     "name": "stdout",
     "output_type": "stream",
     "text": [
      "지영\n",
      "안녕하세요\n"
     ]
    }
   ],
   "source": [
    "# 클래스 선언\n",
    "\n",
    "class Student:\n",
    "    name = \"지영\"\n",
    "    def __init__(self , name ,age) :\n",
    "        self.name = name\n",
    "        self.age = age\n",
    "    def hi(self) :\n",
    "        return \"안녕하세요\"\n",
    "    \n",
    "print(Student.name)\n",
    "print(Student.hi(0)) # self매개변수를 줬기때문에 의미없이 매개변수 줬음..\n"
   ]
  },
  {
   "cell_type": "code",
   "execution_count": 25,
   "id": "29ec7160",
   "metadata": {},
   "outputs": [
    {
     "name": "stdout",
     "output_type": "stream",
     "text": [
      "졍\n",
      "안녕하세요\n",
      "27\n"
     ]
    }
   ],
   "source": [
    "jee = Student(\"졍\",27)\n",
    "print(jee.name)\n",
    "print(jee.hi())\n",
    "print(jee.age)"
   ]
  },
  {
   "cell_type": "code",
   "execution_count": null,
   "id": "767189a0",
   "metadata": {},
   "outputs": [],
   "source": []
  },
  {
   "cell_type": "code",
   "execution_count": null,
   "id": "cb7d9f7c",
   "metadata": {},
   "outputs": [],
   "source": []
  },
  {
   "cell_type": "code",
   "execution_count": null,
   "id": "867e68ef",
   "metadata": {},
   "outputs": [],
   "source": []
  },
  {
   "cell_type": "code",
   "execution_count": null,
   "id": "313e7145",
   "metadata": {},
   "outputs": [],
   "source": []
  },
  {
   "cell_type": "code",
   "execution_count": null,
   "id": "f63b20b1",
   "metadata": {},
   "outputs": [],
   "source": []
  },
  {
   "cell_type": "code",
   "execution_count": null,
   "id": "42d87fa8",
   "metadata": {},
   "outputs": [],
   "source": []
  },
  {
   "cell_type": "code",
   "execution_count": null,
   "id": "7aadb539",
   "metadata": {},
   "outputs": [],
   "source": []
  },
  {
   "cell_type": "code",
   "execution_count": null,
   "id": "14b8adae",
   "metadata": {},
   "outputs": [],
   "source": []
  },
  {
   "cell_type": "code",
   "execution_count": null,
   "id": "636699c0",
   "metadata": {},
   "outputs": [],
   "source": []
  },
  {
   "cell_type": "code",
   "execution_count": null,
   "id": "1dac0b22",
   "metadata": {},
   "outputs": [],
   "source": []
  },
  {
   "cell_type": "code",
   "execution_count": null,
   "id": "83254b70",
   "metadata": {},
   "outputs": [],
   "source": []
  },
  {
   "cell_type": "code",
   "execution_count": null,
   "id": "9e4ad26b",
   "metadata": {},
   "outputs": [],
   "source": []
  },
  {
   "cell_type": "code",
   "execution_count": null,
   "id": "8c91e07b",
   "metadata": {},
   "outputs": [],
   "source": []
  },
  {
   "cell_type": "code",
   "execution_count": null,
   "id": "3347f8a9",
   "metadata": {},
   "outputs": [],
   "source": []
  }
 ],
 "metadata": {
  "kernelspec": {
   "display_name": "Python 3 (ipykernel)",
   "language": "python",
   "name": "python3"
  },
  "language_info": {
   "codemirror_mode": {
    "name": "ipython",
    "version": 3
   },
   "file_extension": ".py",
   "mimetype": "text/x-python",
   "name": "python",
   "nbconvert_exporter": "python",
   "pygments_lexer": "ipython3",
   "version": "3.9.7"
  }
 },
 "nbformat": 4,
 "nbformat_minor": 5
}
